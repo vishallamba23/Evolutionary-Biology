{
 "cells": [
  {
   "cell_type": "code",
   "execution_count": 6,
   "metadata": {
    "collapsed": true
   },
   "outputs": [],
   "source": [
    "import numpy as np\n",
    "import matplotlib.pyplot as plt\n",
    "%matplotlib inline"
   ]
  },
  {
   "cell_type": "code",
   "execution_count": 7,
   "metadata": {
    "collapsed": false
   },
   "outputs": [],
   "source": [
    "#Initializing the parameters in Q2\n",
    "\n",
    "N = 1000\n",
    "\n",
    "A = np.zeros(int(N/2))\n",
    "B = np.ones(int(N/2))\n",
    "\n",
    "pop  = np.concatenate([A,B])\n",
    "np.random.shuffle(pop)\n",
    "\n",
    "u1 = 0.07\n",
    "u2 = 0.001\n",
    "T = 1500\n",
    "\n",
    "#Array to store the number of individuals of species B(1) throughout each generation\n",
    "freq = np.zeros(T)\n"
   ]
  },
  {
   "cell_type": "code",
   "execution_count": 8,
   "metadata": {
    "collapsed": false
   },
   "outputs": [],
   "source": [
    "#Main loop\n",
    "for generation in range(T):\n",
    "    \n",
    "    for individual in range(pop.shape[0]):\n",
    "        \n",
    "        if pop[individual] == 0:\n",
    "            r = np.random.uniform(0,1)\n",
    "            if r < u1:\n",
    "                pop[individual] = 1\n",
    "                continue\n",
    "            \n",
    "        if pop[individual] == 1:\n",
    "            r = np.random.uniform(0,1)\n",
    "            if r < u2:\n",
    "                pop[individual] = 0\n",
    "\n",
    "    freq[generation] = np.sum(pop)"
   ]
  },
  {
   "cell_type": "code",
   "execution_count": 9,
   "metadata": {
    "collapsed": false
   },
   "outputs": [
    {
     "data": {
      "text/plain": [
       "(21.0, 979.0)"
      ]
     },
     "execution_count": 9,
     "metadata": {},
     "output_type": "execute_result"
    }
   ],
   "source": [
    "#Final frequency distribution in the polulation\n",
    "\n",
    "freq_of_B = np.sum(pop)\n",
    "freq_of_A = np.size(pop) - freq_of_B\n",
    "freq_of_A, freq_of_B"
   ]
  },
  {
   "cell_type": "code",
   "execution_count": 10,
   "metadata": {
    "collapsed": false
   },
   "outputs": [
    {
     "data": {
      "image/png": "[encoded data removed]",
      "text/plain": [
       "<matplotlib.figure.Figure at 0x1f6d8dfd518>"
      ]
     },
     "metadata": {},
     "output_type": "display_data"
    }
   ],
   "source": [
    "#Plot\n",
    "\n",
    "x = np.arange(0,T)\n",
    "y = freq\n",
    "z = N - freq\n",
    "plt.xlabel('Generation')\n",
    "plt.ylabel('Frequency')\n",
    "plt.plot(x,z)\n",
    "plt.plot(x,y)\n",
    "plt.legend(['Population of A', 'Population of B'])\n",
    "plt.title('N = 1000')\n",
    "plt.savefig('Plot.png')"
   ]
  },
  {
   "cell_type": "code",
   "execution_count": null,
   "metadata": {
    "collapsed": true
   },
   "outputs": [],
   "source": [
    "\"\"\"Plots for the other cases can be found by changing values of N,u1,u2 which is easier here than storing their values in arrays and iterating over them.\"\"\""
   ]
  }
 ],
 "metadata": {
  "kernelspec": {
   "display_name": "Python 3",
   "language": "python",
   "name": "python3"
  },
  "language_info": {
   "codemirror_mode": {
    "name": "ipython",
    "version": 3
   },
   "file_extension": ".py",
   "mimetype": "text/x-python",
   "name": "python",
   "nbconvert_exporter": "python",
   "pygments_lexer": "ipython3",
   "version": "3.6.0"
  }
 },
 "nbformat": 4,
 "nbformat_minor": 2
}
