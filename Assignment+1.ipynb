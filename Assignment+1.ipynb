{
 "cells": [
  {
   "cell_type": "code",
   "execution_count": 216,
   "metadata": {
    "collapsed": true
   },
   "outputs": [],
   "source": [
    "import numpy as np\n",
    "import matplotlib.pyplot as plt\n",
    "%matplotlib inline"
   ]
  },
  {
   "cell_type": "code",
   "execution_count": 217,
   "metadata": {
    "collapsed": false
   },
   "outputs": [],
   "source": [
    "N = 1000\n",
    "\n",
    "A = np.zeros(int(N/2))\n",
    "B = np.ones(int(N/2))\n",
    "\n",
    "pop  = np.concatenate([A,B])\n",
    "np.random.shuffle(pop)\n",
    "\n",
    "u1 = 0.07\n",
    "u2 = 0.001\n",
    "T = 1500\n",
    "\n",
    "freq = np.zeros(T)\n"
   ]
  },
  {
   "cell_type": "code",
   "execution_count": 218,
   "metadata": {
    "collapsed": false
   },
   "outputs": [],
   "source": [
    "for generation in range(T):\n",
    "    \n",
    "    for individual in range(pop.shape[0]):\n",
    "        \n",
    "        if pop[individual] == 0:\n",
    "            r = np.random.uniform(0,1)\n",
    "            if r < u1:\n",
    "                pop[individual] = 1\n",
    "                continue\n",
    "            \n",
    "        if pop[individual] == 1:\n",
    "            r = np.random.uniform(0,1)\n",
    "            if r < u2:\n",
    "                pop[individual] = 0\n",
    "\n",
    "    freq[generation] = np.sum(pop)"
   ]
  },
  {
   "cell_type": "code",
   "execution_count": 219,
   "metadata": {
    "collapsed": false
   },
   "outputs": [
    {
     "data": {
      "text/plain": [
       "(14.0, 986.0)"
      ]
     },
     "execution_count": 219,
     "metadata": {},
     "output_type": "execute_result"
    }
   ],
   "source": [
    "freq_of_B = np.sum(pop)\n",
    "freq_of_A = np.size(pop) - freq_of_B\n",
    "freq_of_A, freq_of_B"
   ]
  },
  {
   "cell_type": "code",
   "execution_count": 220,
   "metadata": {
    "collapsed": false
   },
   "outputs": [
    {
     "data": {
      "image/png": "iVBORw0KGgoAAAANSUhEUgAAAY8AAAEWCAYAAACe8xtsAAAABHNCSVQICAgIfAhkiAAAAAlwSFlz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\nGGPCZsnDGGNM2P4/N0D51qq1WcgAAAAASUVORK5CYII=\n",
      "text/plain": [
       "<matplotlib.figure.Figure at 0x28d234221d0>"
      ]
     },
     "metadata": {},
     "output_type": "display_data"
    }
   ],
   "source": [
    "x = np.arange(0,T)\n",
    "y = freq\n",
    "z = N - freq\n",
    "plt.xlabel('Generation')\n",
    "plt.ylabel('Frequency')\n",
    "plt.plot(x,z)\n",
    "plt.plot(x,y)\n",
    "plt.legend(['Population of A', 'Population of B'])\n",
    "plt.title('N = 1000')\n",
    "plt.savefig('Plot.png')"
   ]
  },
  {
   "cell_type": "code",
   "execution_count": null,
   "metadata": {
    "collapsed": true
   },
   "outputs": [],
   "source": [
    "The code here only calculates for the last case (Answer 2). The solutions to Q1 can be found by merely changing the Values
    "of N and u1, u2 to reduce the effort of creating arrays of different values of N and u1, u2 and iterating over them."
   ]
  }
 ],
 "metadata": {
  "kernelspec": {
   "display_name": "Python 3",
   "language": "python",
   "name": "python3"
  },
  "language_info": {
   "codemirror_mode": {
    "name": "ipython",
    "version": 3
   },
   "file_extension": ".py",
   "mimetype": "text/x-python",
   "name": "python",
   "nbconvert_exporter": "python",
   "pygments_lexer": "ipython3",
   "version": "3.6.0"
  }
 },
 "nbformat": 4,
 "nbformat_minor": 2
}
