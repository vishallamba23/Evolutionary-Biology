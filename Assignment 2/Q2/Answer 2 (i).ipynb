{
 "cells": [
  {
   "cell_type": "code",
   "execution_count": 1,
   "metadata": {
    "collapsed": true
   },
   "outputs": [],
   "source": [
    "import numpy as np\n",
    "import matplotlib.pyplot as plt\n",
    "%matplotlib inline"
   ]
  },
  {
   "cell_type": "code",
   "execution_count": 74,
   "metadata": {
    "collapsed": false
   },
   "outputs": [],
   "source": [
    "survivor = np.array([])\n",
    "\n",
    "for i in range(1000):\n",
    "    \n",
    "    #Initializing the population\n",
    "\n",
    "    N = 100\n",
    "\n",
    "    A = np.zeros(1)\n",
    "    B = np.ones(N - 1)\n",
    "\n",
    "    pop  = np.concatenate([A,B])\n",
    "    np.random.shuffle(pop)\n",
    "\n",
    "    r = 1.01\n",
    "\n",
    "    normalized_r_A = r / (1 + r)\n",
    "    normalized_r_B = 1 / (1 + r)\n",
    "\n",
    "    #freq_of_B = np.array([])\n",
    "\n",
    "    while (0 in pop and 1 in pop):\n",
    " \n",
    "    \n",
    "        reproduce = np.random.randint(0,100)\n",
    "        kill      = np.random.randint(0,100)\n",
    "    \n",
    "        if pop[reproduce] == 0:\n",
    "    \n",
    "            rand = np.random.random()\n",
    "            if rand < normalized_r_A:\n",
    "                pop[kill] = pop[reproduce]\n",
    "            \n",
    "            continue\n",
    "            \n",
    "        else:\n",
    "        \n",
    "            rand = np.random.random()\n",
    "            if rand < normalized_r_B:\n",
    "                pop[kill] = pop[reproduce]\n",
    "            \n",
    "            continue\n",
    "            \n",
    "    if 0 in pop:\n",
    "        survivor = np.append(survivor, 0)\n",
    "        \n",
    "    if 1 in pop:\n",
    "        survivor = np.append(survivor, 1)\n",
    "    #freq_of_B = np.append(freq_of_B, np.sum(pop))\n",
    "        "
   ]
  },
  {
   "cell_type": "code",
   "execution_count": 77,
   "metadata": {
    "collapsed": false
   },
   "outputs": [
    {
     "name": "stdout",
     "output_type": "stream",
     "text": [
      "Invasion frequency = 0.021\n"
     ]
    }
   ],
   "source": [
    "print('Invasion frequency = ' + str((1000 - np.sum(survivor)) / 1000))"
   ]
  },
  {
   "cell_type": "code",
   "execution_count": 78,
   "metadata": {
    "collapsed": false
   },
   "outputs": [
    {
     "name": "stdout",
     "output_type": "stream",
     "text": [
      "Theoretical Invasion frequency = 0.016\n"
     ]
    }
   ],
   "source": [
    "print('Theoretical Invasion frequency = 0.016')"
   ]
  }
 ],
 "metadata": {
  "kernelspec": {
   "display_name": "Python 3",
   "language": "python",
   "name": "python3"
  },
  "language_info": {
   "codemirror_mode": {
    "name": "ipython",
    "version": 3
   },
   "file_extension": ".py",
   "mimetype": "text/x-python",
   "name": "python",
   "nbconvert_exporter": "python",
   "pygments_lexer": "ipython3",
   "version": "3.6.0"
  }
 },
 "nbformat": 4,
 "nbformat_minor": 2
}
