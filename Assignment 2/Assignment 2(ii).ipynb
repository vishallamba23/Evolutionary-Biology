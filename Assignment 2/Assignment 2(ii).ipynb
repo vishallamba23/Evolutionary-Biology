{
 "cells": [
  {
   "cell_type": "code",
   "execution_count": 1,
   "metadata": {
    "collapsed": true
   },
   "outputs": [],
   "source": [
    "import numpy as np\n",
    "import matplotlib.pyplot as plt\n",
    "%matplotlib inline"
   ]
  },
  {
   "cell_type": "code",
   "execution_count": 107,
   "metadata": {
    "collapsed": false
   },
   "outputs": [],
   "source": [
    "survivor = np.array([])\n",
    "for i in range(3):\n",
    "    \n",
    "    N = 500\n",
    "\n",
    "    A = np.zeros(int(N/2))\n",
    "    B = np.ones(int(N/2))\n",
    "\n",
    "    pop  = np.concatenate([A,B])\n",
    "    np.random.shuffle(pop)\n",
    "\n",
    "    while (0 in pop and 1 in pop):\n",
    "    \n",
    "        reproduce = np.random.randint(0,500)\n",
    "        kill      = np.random.randint(0,500)\n",
    "        pop[kill] = pop[reproduce]\n",
    "        \n",
    "        np.random.shuffle(pop)\n",
    "        \n",
    "    if 0 in pop:\n",
    "        survivor = np.append(survivor, 0)\n",
    "        \n",
    "    if 1 in pop:\n",
    "        survivor = np.append(survivor, 1)\n",
    "    \n",
    "    \n",
    "    "
   ]
  },
  {
   "cell_type": "code",
   "execution_count": 123,
   "metadata": {
    "collapsed": false
   },
   "outputs": [
    {
     "name": "stdout",
     "output_type": "stream",
     "text": [
      "Statistical fixation probability of A = 0.53\n",
      "Statistical fixation probability of B = 0.47\n"
     ]
    }
   ],
   "source": [
    "print('Statistical fixation probability of A = ' + str((100 - np.sum(survivor)) / 100))\n",
    "print('Statistical fixation probability of B = ' + str(np.sum(survivor) / 100))"
   ]
  },
  {
   "cell_type": "code",
   "execution_count": 124,
   "metadata": {
    "collapsed": false
   },
   "outputs": [
    {
     "name": "stdout",
     "output_type": "stream",
     "text": [
      "This values is close to the theoretical prediction of 0.5 fixation probability (i/N where i = freq_of_A/B, N = pop_size)\n"
     ]
    }
   ],
   "source": [
    "print('This values is close to the theoretical prediction of 0.5 fixation probability (i/N where i = freq_of_A/B, N = pop_size)')"
   ]
  }
 ],
 "metadata": {
  "kernelspec": {
   "display_name": "Python 3",
   "language": "python",
   "name": "python3"
  },
  "language_info": {
   "codemirror_mode": {
    "name": "ipython",
    "version": 3
   },
   "file_extension": ".py",
   "mimetype": "text/x-python",
   "name": "python",
   "nbconvert_exporter": "python",
   "pygments_lexer": "ipython3",
   "version": "3.6.0"
  }
 },
 "nbformat": 4,
 "nbformat_minor": 2
}
