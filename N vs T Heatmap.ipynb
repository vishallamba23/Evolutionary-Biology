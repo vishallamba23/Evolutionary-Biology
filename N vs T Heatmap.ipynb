{
 "cells": [
  {
   "cell_type": "code",
   "execution_count": 2,
   "metadata": {
    "collapsed": true
   },
   "outputs": [],
   "source": [
    "import numpy as np\n",
    "import matplotlib.pyplot as plt\n",
    "%matplotlib inline"
   ]
  },
  {
   "cell_type": "code",
   "execution_count": 8,
   "metadata": {
    "collapsed": false
   },
   "outputs": [
    {
     "name": "stdout",
     "output_type": "stream",
     "text": [
      "13\n",
      "12\n",
      "11\n",
      "10\n",
      "9\n",
      "8\n",
      "7\n",
      "6\n",
      "5\n",
      "4\n",
      "3\n",
      "2\n",
      "1\n",
      "0\n"
     ]
    }
   ],
   "source": [
    "#Initializing the parameters in Q2\n",
    "\n",
    "N = np.arange(400,6000,400)\n",
    "\n",
    "u1 = 0.5\n",
    "u2 = 0.2\n",
    "T  = np.arange(100,1500,100)\n",
    "i = 13\n",
    "j = 0\n",
    "\n",
    "#Array to store the number of individuals of species B(1) throughout each generation\n",
    "freq = np.zeros((N.size, T.size))\n",
    "\n",
    "\n",
    "for pop_size in N:\n",
    "    \n",
    "    j = 0\n",
    "\n",
    "    for iterations in T:\n",
    "        \n",
    "        for generation in range(iterations):\n",
    "    \n",
    "            A = np.zeros(int(pop_size/2))\n",
    "            B = np.ones(int(pop_size/2))\n",
    "\n",
    "            pop  = np.concatenate([A,B])\n",
    "            np.random.shuffle(pop)\n",
    "    \n",
    "            for individual in range(pop.shape[0]):\n",
    "        \n",
    "                if pop[individual] == 0:\n",
    "                    r = np.random.uniform(0,1)\n",
    "                    if r < u1:\n",
    "                        pop[individual] = 1\n",
    "                        continue\n",
    "            \n",
    "                if pop[individual] == 1:\n",
    "                    r = np.random.uniform(0,1)\n",
    "                    if r < u2:\n",
    "                        pop[individual] = 0\n",
    "\n",
    "        freq[i][j] = ((np.sum(pop) / pop_size) * 100)\n",
    "        j = j+1\n",
    "    print(i)\n",
    "    i = i-1"
   ]
  },
  {
   "cell_type": "code",
   "execution_count": 9,
   "metadata": {
    "collapsed": false
   },
   "outputs": [
    {
     "data": {
      "text/plain": [
       "array([[ 64.96428571,  64.39285714,  64.69642857,  65.16071429,\n",
       "         65.23214286,  64.46428571,  64.51785714,  66.        ,\n",
       "         64.28571429,  65.42857143,  64.69642857,  64.85714286,\n",
       "         63.78571429,  65.35714286],\n",
       "       [ 63.84615385,  64.61538462,  65.92307692,  65.44230769,\n",
       "         65.92307692,  65.63461538,  64.25      ,  65.78846154,\n",
       "         65.86538462,  65.53846154,  62.34615385,  63.86538462,\n",
       "         64.88461538,  64.71153846],\n",
       "       [ 65.0625    ,  64.54166667,  65.875     ,  64.6875    ,\n",
       "         63.625     ,  64.9375    ,  65.3125    ,  64.9375    ,\n",
       "         64.79166667,  65.20833333,  63.52083333,  64.10416667,\n",
       "         64.66666667,  64.64583333],\n",
       "       [ 64.90909091,  65.90909091,  64.11363636,  64.06818182,\n",
       "         64.34090909,  65.68181818,  65.02272727,  64.70454545,\n",
       "         64.63636364,  64.97727273,  63.88636364,  64.45454545,\n",
       "         64.90909091,  66.04545455],\n",
       "       [ 64.9       ,  65.4       ,  65.375     ,  66.325     ,\n",
       "         65.175     ,  66.05      ,  64.35      ,  65.275     ,\n",
       "         64.45      ,  64.35      ,  66.275     ,  64.725     ,\n",
       "         65.425     ,  66.525     ],\n",
       "       [ 64.77777778,  63.72222222,  64.13888889,  65.22222222,\n",
       "         64.77777778,  65.5       ,  65.02777778,  64.11111111,\n",
       "         65.77777778,  64.25      ,  62.75      ,  65.94444444,\n",
       "         65.        ,  65.58333333],\n",
       "       [ 64.03125   ,  65.        ,  64.5625    ,  64.8125    ,\n",
       "         64.3125    ,  65.09375   ,  64.9375    ,  65.25      ,\n",
       "         64.34375   ,  65.71875   ,  65.71875   ,  64.65625   ,\n",
       "         64.1875    ,  65.09375   ],\n",
       "       [ 64.60714286,  64.71428571,  66.03571429,  64.21428571,\n",
       "         63.89285714,  64.32142857,  64.85714286,  64.67857143,\n",
       "         65.78571429,  66.        ,  66.39285714,  64.17857143,\n",
       "         66.39285714,  64.10714286],\n",
       "       [ 64.83333333,  66.79166667,  65.        ,  64.04166667,\n",
       "         64.16666667,  64.25      ,  64.58333333,  64.83333333,\n",
       "         64.25      ,  64.45833333,  66.08333333,  64.66666667,\n",
       "         65.70833333,  64.45833333],\n",
       "       [ 64.05      ,  65.35      ,  64.95      ,  65.35      ,\n",
       "         65.25      ,  66.1       ,  67.55      ,  64.2       ,\n",
       "         64.55      ,  66.2       ,  63.45      ,  64.7       ,\n",
       "         62.7       ,  64.85      ],\n",
       "       [ 65.25      ,  63.5       ,  66.6875    ,  65.0625    ,\n",
       "         65.875     ,  65.3125    ,  66.125     ,  64.1875    ,\n",
       "         66.375     ,  64.5625    ,  64.6875    ,  65.125     ,\n",
       "         67.25      ,  67.0625    ],\n",
       "       [ 65.33333333,  66.5       ,  64.75      ,  64.83333333,\n",
       "         62.75      ,  62.5       ,  66.33333333,  65.33333333,\n",
       "         64.08333333,  63.83333333,  63.25      ,  65.66666667,\n",
       "         65.83333333,  65.58333333],\n",
       "       [ 64.875     ,  63.        ,  61.625     ,  64.875     ,\n",
       "         63.375     ,  63.875     ,  65.625     ,  66.125     ,\n",
       "         64.875     ,  66.25      ,  67.625     ,  64.75      ,\n",
       "         63.75      ,  62.        ],\n",
       "       [ 66.        ,  67.5       ,  64.        ,  65.        ,\n",
       "         69.        ,  66.5       ,  64.25      ,  61.5       ,\n",
       "         64.5       ,  67.        ,  65.25      ,  62.75      ,\n",
       "         64.5       ,  68.        ]])"
      ]
     },
     "execution_count": 9,
     "metadata": {},
     "output_type": "execute_result"
    }
   ],
   "source": [
    "freq"
   ]
  },
  {
   "cell_type": "code",
   "execution_count": 17,
   "metadata": {
    "collapsed": false
   },
   "outputs": [
    {
     "data": {
      "image/png": "[encoded data removed]",
      "text/plain": [
       "<matplotlib.figure.Figure at 0x2302efc2d68>"
      ]
     },
     "metadata": {},
     "output_type": "display_data"
    }
   ],
   "source": [
    "plt.xlabel('No. of Generation (200 - 1600, step = 200)')\n",
    "plt.ylabel('Population Size (400 - 6000, step = 400)')\n",
    "\n",
    "plt.xticks([])\n",
    "plt.yticks([])\n",
    "\n",
    "plt.imshow(freq, cmap='hot', interpolation='nearest')\n",
    "plt.colorbar()\n",
    "plt.savefig('N vs T Heatmap.png')"
   ]
  },
  {
   "cell_type": "code",
   "execution_count": null,
   "metadata": {
    "collapsed": false
   },
   "outputs": [],
   "source": []
  }
 ],
 "metadata": {
  "kernelspec": {
   "display_name": "Python 3",
   "language": "python",
   "name": "python3"
  },
  "language_info": {
   "codemirror_mode": {
    "name": "ipython",
    "version": 3
   },
   "file_extension": ".py",
   "mimetype": "text/x-python",
   "name": "python",
   "nbconvert_exporter": "python",
   "pygments_lexer": "ipython3",
   "version": "3.6.0"
  }
 },
 "nbformat": 4,
 "nbformat_minor": 2
}
