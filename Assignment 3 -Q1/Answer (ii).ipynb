{
 "cells": [
  {
   "cell_type": "code",
   "execution_count": 1,
   "metadata": {
    "collapsed": true
   },
   "outputs": [],
   "source": [
    "import numpy as np\n",
    "import matplotlib.pyplot as plt\n",
    "%matplotlib inline"
   ]
  },
  {
   "cell_type": "code",
   "execution_count": 22,
   "metadata": {
    "collapsed": false
   },
   "outputs": [],
   "source": [
    "#Initializing the population\n",
    "N = 10000\n",
    "\n",
    "A = np.zeros(int(N/2))\n",
    "B = np.ones(int(N/2))\n",
    "\n",
    "pop  = np.concatenate([A,B])\n",
    "np.random.shuffle(pop)\n",
    "\n",
    "\n",
    "r = 1.1\n",
    "u = 0.01\n",
    "\n",
    "j = 0\n",
    "\n",
    "normalized_r_A = r / (1 + r)\n",
    "normalized_r_B = 1 / (1 + r)\n",
    "\n",
    "freq_of_B = np.array([])\n",
    "\n",
    "for i in range(5000000):\n",
    "    \n",
    "    reproduce = np.random.randint(0,N)\n",
    "    kill      = np.random.randint(0,N)\n",
    "    \n",
    "    if pop[reproduce] == 0:\n",
    "    \n",
    "        rand1 = np.random.random()\n",
    "        if rand1 < normalized_r_A:\n",
    "            \n",
    "            rand2 = np.random.random()\n",
    "            if rand2 < u:\n",
    "                \n",
    "                pop[kill] = 1\n",
    "                if i > j:\n",
    "                    freq_of_B = np.append(freq_of_B,  np.sum(pop))\n",
    "                    j = j + 5000\n",
    "    \n",
    "                \n",
    "            else:\n",
    "                \n",
    "                pop[kill] = 0\n",
    "                if i > j:\n",
    "                    \n",
    "                    freq_of_B = np.append(freq_of_B, np.sum(pop))\n",
    "                    j = j + 5000\n",
    "                \n",
    "        continue\n",
    "            \n",
    "    else:\n",
    "        \n",
    "        rand = np.random.random()\n",
    "        if rand < normalized_r_B:\n",
    "            pop[kill] = pop[reproduce]\n",
    "            \n",
    "            if i > j:\n",
    "                freq_of_B = np.append(freq_of_B, np.sum(pop))\n",
    "                j = j + 5000\n",
    "            \n",
    "        continue\n"
   ]
  },
  {
   "cell_type": "code",
   "execution_count": 23,
   "metadata": {
    "collapsed": false
   },
   "outputs": [
    {
     "name": "stdout",
     "output_type": "stream",
     "text": [
      "No. of type 1 in population = 1132.0\n"
     ]
    }
   ],
   "source": [
    "print(\"No. of type 1 in population = \" + str(np.sum(pop)))"
   ]
  },
  {
   "cell_type": "code",
   "execution_count": 24,
   "metadata": {
    "collapsed": false
   },
   "outputs": [
    {
     "data": {
      "text/plain": [
       "<matplotlib.text.Text at 0x2cdd7cd7780>"
      ]
     },
     "execution_count": 24,
     "metadata": {},
     "output_type": "execute_result"
    },
    {
     "data": {
      "image/png": "[encoded data removed]",
      "text/plain": [
       "<matplotlib.figure.Figure at 0x2cdd7c78908>"
      ]
     },
     "metadata": {},
     "output_type": "display_data"
    }
   ],
   "source": [
    "#Plot\n",
    "\n",
    "x = np.arange(0, freq_of_B.size)\n",
    "y = freq_of_B\n",
    "z = N - freq_of_B\n",
    "plt.xlabel('Generation (scaled down by factor of 5000)')\n",
    "plt.ylabel('Frequency')\n",
    "plt.plot(x,z)\n",
    "plt.plot(x,y)\n",
    "plt.legend(['Population of A', 'Population of B'])\n",
    "plt.title('N = 10000')\n",
    "#plt.savefig('Plot.png')"
   ]
  },
  {
   "cell_type": "code",
   "execution_count": 25,
   "metadata": {
    "collapsed": false
   },
   "outputs": [
    {
     "name": "stdout",
     "output_type": "stream",
     "text": [
      "Theoretical frequency of Type 1 at equilibrium = 0.11, which matches with the value from the simulation.\n"
     ]
    }
   ],
   "source": [
    "print(\"Theoretical frequency of Type 1 at equilibrium = 0.11, which matches with the value from the simulation.\")"
   ]
  }
 ],
 "metadata": {
  "kernelspec": {
   "display_name": "Python 3",
   "language": "python",
   "name": "python3"
  },
  "language_info": {
   "codemirror_mode": {
    "name": "ipython",
    "version": 3
   },
   "file_extension": ".py",
   "mimetype": "text/x-python",
   "name": "python",
   "nbconvert_exporter": "python",
   "pygments_lexer": "ipython3",
   "version": "3.6.0"
  }
 },
 "nbformat": 4,
 "nbformat_minor": 2
}
